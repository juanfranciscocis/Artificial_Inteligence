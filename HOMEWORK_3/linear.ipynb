{
 "cells": [
  {
   "cell_type": "code",
   "execution_count": 39,
   "metadata": {},
   "outputs": [],
   "source": [
    "import numpy as np\n",
    "from sklearn.preprocessing import PolynomialFeatures\n",
    "import pandas as pd\n",
    "import matplotlib.pyplot as plt\n",
    "\n",
    "def sigmoid(x):\n",
    "    return 1 / (1 + np.exp(-x))\n",
    "\n",
    "class Perceptron:\n",
    "    def __init__(self, input_size, learning_rate=0.01, epochs=100, weights=None):\n",
    "        self.input_size = input_size\n",
    "        self.weights = weights\n",
    "        self.learning_rate = learning_rate\n",
    "        self.epochs = epochs\n",
    "        self.accuracies = []  # List to store accuracies for each epoch\n",
    "\n",
    "    def predict(self, inputs):\n",
    "        summation = np.dot(inputs, self.weights)  # No need to reshape self.weights\n",
    "        return sigmoid(summation)\n",
    "\n",
    "    def calculate_accuracy(self, training_inputs, labels):\n",
    "        predictions = [round(self.predict(inputs)) for inputs in training_inputs]\n",
    "        correct_predictions = np.sum(predictions == labels)\n",
    "        accuracy = correct_predictions / len(labels)\n",
    "        return accuracy\n",
    "\n",
    "    def train(self, training_inputs, labels):\n",
    "        self.accuracies = []  # Reset accuracies for each training session\n",
    "\n",
    "        for epoch in range(self.epochs):\n",
    "            for inputs, label in zip(training_inputs, labels):\n",
    "                prediction = self.predict(inputs)\n",
    "                error = label - prediction\n",
    "                self.weights += self.learning_rate * error * prediction * (1 - prediction) * inputs\n",
    "\n",
    "            # Calculate accuracy for the current epoch\n",
    "            accuracy = self.calculate_accuracy(training_inputs, labels)\n",
    "            self.accuracies.append(1/accuracy)\n",
    "\n",
    "            # Print accuracy for the current epoch\n",
    "            print(\"Epoch: \" + str(epoch) + \" Accuracy: \" + str(accuracy))\n",
    "\n"
   ]
  },
  {
   "cell_type": "code",
   "execution_count": 40,
   "metadata": {},
   "outputs": [
    {
     "data": {
      "text/html": [
       "<div>\n",
       "<style scoped>\n",
       "    .dataframe tbody tr th:only-of-type {\n",
       "        vertical-align: middle;\n",
       "    }\n",
       "\n",
       "    .dataframe tbody tr th {\n",
       "        vertical-align: top;\n",
       "    }\n",
       "\n",
       "    .dataframe thead th {\n",
       "        text-align: right;\n",
       "    }\n",
       "</style>\n",
       "<table border=\"1\" class=\"dataframe\">\n",
       "  <thead>\n",
       "    <tr style=\"text-align: right;\">\n",
       "      <th></th>\n",
       "      <th>X</th>\n",
       "      <th>Y</th>\n",
       "    </tr>\n",
       "  </thead>\n",
       "  <tbody>\n",
       "    <tr>\n",
       "      <th>0</th>\n",
       "      <td>0.741074</td>\n",
       "      <td>0.032447</td>\n",
       "    </tr>\n",
       "    <tr>\n",
       "      <th>1</th>\n",
       "      <td>4.794975</td>\n",
       "      <td>0.404499</td>\n",
       "    </tr>\n",
       "    <tr>\n",
       "      <th>2</th>\n",
       "      <td>1.672767</td>\n",
       "      <td>3.685057</td>\n",
       "    </tr>\n",
       "    <tr>\n",
       "      <th>3</th>\n",
       "      <td>3.571626</td>\n",
       "      <td>1.126299</td>\n",
       "    </tr>\n",
       "    <tr>\n",
       "      <th>4</th>\n",
       "      <td>4.146296</td>\n",
       "      <td>2.519701</td>\n",
       "    </tr>\n",
       "    <tr>\n",
       "      <th>...</th>\n",
       "      <td>...</td>\n",
       "      <td>...</td>\n",
       "    </tr>\n",
       "    <tr>\n",
       "      <th>194</th>\n",
       "      <td>3.035141</td>\n",
       "      <td>4.776586</td>\n",
       "    </tr>\n",
       "    <tr>\n",
       "      <th>195</th>\n",
       "      <td>4.343927</td>\n",
       "      <td>1.170200</td>\n",
       "    </tr>\n",
       "    <tr>\n",
       "      <th>196</th>\n",
       "      <td>3.656601</td>\n",
       "      <td>2.025832</td>\n",
       "    </tr>\n",
       "    <tr>\n",
       "      <th>197</th>\n",
       "      <td>4.031428</td>\n",
       "      <td>3.240811</td>\n",
       "    </tr>\n",
       "    <tr>\n",
       "      <th>198</th>\n",
       "      <td>3.493828</td>\n",
       "      <td>2.784997</td>\n",
       "    </tr>\n",
       "  </tbody>\n",
       "</table>\n",
       "<p>199 rows × 2 columns</p>\n",
       "</div>"
      ],
      "text/plain": [
       "            X         Y\n",
       "0    0.741074  0.032447\n",
       "1    4.794975  0.404499\n",
       "2    1.672767  3.685057\n",
       "3    3.571626  1.126299\n",
       "4    4.146296  2.519701\n",
       "..        ...       ...\n",
       "194  3.035141  4.776586\n",
       "195  4.343927  1.170200\n",
       "196  3.656601  2.025832\n",
       "197  4.031428  3.240811\n",
       "198  3.493828  2.784997\n",
       "\n",
       "[199 rows x 2 columns]"
      ]
     },
     "execution_count": 40,
     "metadata": {},
     "output_type": "execute_result"
    }
   ],
   "source": [
    "x = pd.read_csv('./XY/X.csv')\n",
    "x = x.drop(x.columns[0], axis=1)\n",
    "#header column 0 is X and column 1 is Y\n",
    "x.columns = ['X', 'Y']\n",
    "\n",
    "x"
   ]
  },
  {
   "cell_type": "code",
   "execution_count": 41,
   "metadata": {},
   "outputs": [
    {
     "data": {
      "text/html": [
       "<div>\n",
       "<style scoped>\n",
       "    .dataframe tbody tr th:only-of-type {\n",
       "        vertical-align: middle;\n",
       "    }\n",
       "\n",
       "    .dataframe tbody tr th {\n",
       "        vertical-align: top;\n",
       "    }\n",
       "\n",
       "    .dataframe thead th {\n",
       "        text-align: right;\n",
       "    }\n",
       "</style>\n",
       "<table border=\"1\" class=\"dataframe\">\n",
       "  <thead>\n",
       "    <tr style=\"text-align: right;\">\n",
       "      <th></th>\n",
       "      <th>Y</th>\n",
       "    </tr>\n",
       "  </thead>\n",
       "  <tbody>\n",
       "    <tr>\n",
       "      <th>0</th>\n",
       "      <td>0</td>\n",
       "    </tr>\n",
       "    <tr>\n",
       "      <th>1</th>\n",
       "      <td>0</td>\n",
       "    </tr>\n",
       "    <tr>\n",
       "      <th>2</th>\n",
       "      <td>1</td>\n",
       "    </tr>\n",
       "    <tr>\n",
       "      <th>3</th>\n",
       "      <td>0</td>\n",
       "    </tr>\n",
       "    <tr>\n",
       "      <th>4</th>\n",
       "      <td>0</td>\n",
       "    </tr>\n",
       "    <tr>\n",
       "      <th>...</th>\n",
       "      <td>...</td>\n",
       "    </tr>\n",
       "    <tr>\n",
       "      <th>194</th>\n",
       "      <td>1</td>\n",
       "    </tr>\n",
       "    <tr>\n",
       "      <th>195</th>\n",
       "      <td>0</td>\n",
       "    </tr>\n",
       "    <tr>\n",
       "      <th>196</th>\n",
       "      <td>0</td>\n",
       "    </tr>\n",
       "    <tr>\n",
       "      <th>197</th>\n",
       "      <td>0</td>\n",
       "    </tr>\n",
       "    <tr>\n",
       "      <th>198</th>\n",
       "      <td>0</td>\n",
       "    </tr>\n",
       "  </tbody>\n",
       "</table>\n",
       "<p>199 rows × 1 columns</p>\n",
       "</div>"
      ],
      "text/plain": [
       "     Y\n",
       "0    0\n",
       "1    0\n",
       "2    1\n",
       "3    0\n",
       "4    0\n",
       "..  ..\n",
       "194  1\n",
       "195  0\n",
       "196  0\n",
       "197  0\n",
       "198  0\n",
       "\n",
       "[199 rows x 1 columns]"
      ]
     },
     "execution_count": 41,
     "metadata": {},
     "output_type": "execute_result"
    }
   ],
   "source": [
    "y = pd.read_csv('./XY/Y.csv')   \n",
    "y = y.drop(y.columns[0], axis=1)\n",
    "y.columns = ['Y']\n",
    "y"
   ]
  },
  {
   "cell_type": "code",
   "execution_count": 42,
   "metadata": {},
   "outputs": [
    {
     "data": {
      "text/plain": [
       "<matplotlib.collections.PathCollection at 0x16a8c46d0>"
      ]
     },
     "execution_count": 42,
     "metadata": {},
     "output_type": "execute_result"
    },
    {
     "data": {
      "image/png": "[encoded data removed]",
      "text/plain": [
       "<Figure size 640x480 with 1 Axes>"
      ]
     },
     "metadata": {},
     "output_type": "display_data"
    }
   ],
   "source": [
    "plt.scatter(x['X'], x['Y'])"
   ]
  },
  {
   "cell_type": "code",
   "execution_count": 43,
   "metadata": {},
   "outputs": [
    {
     "ename": "ValueError",
     "evalue": "shapes (2,) and (6,) not aligned: 2 (dim 0) != 6 (dim 0)",
     "output_type": "error",
     "traceback": [
      "\u001b[0;31m---------------------------------------------------------------------------\u001b[0m",
      "\u001b[0;31mValueError\u001b[0m                                Traceback (most recent call last)",
      "\u001b[1;32m/Users/juancisneros/Documents/USFQ/Septimo_Semestre/Inteligencia_Artificial/HOMEWORK_3/linear.ipynb Cell 5\u001b[0m line \u001b[0;36m6\n\u001b[1;32m      <a href='vscode-notebook-cell:/Users/juancisneros/Documents/USFQ/Septimo_Semestre/Inteligencia_Artificial/HOMEWORK_3/linear.ipynb#W4sZmlsZQ%3D%3D?line=1'>2</a>\u001b[0m y \u001b[39m=\u001b[39m y\u001b[39m.\u001b[39mto_numpy()\n\u001b[1;32m      <a href='vscode-notebook-cell:/Users/juancisneros/Documents/USFQ/Septimo_Semestre/Inteligencia_Artificial/HOMEWORK_3/linear.ipynb#W4sZmlsZQ%3D%3D?line=4'>5</a>\u001b[0m perceptron \u001b[39m=\u001b[39m Perceptron(input_size\u001b[39m=\u001b[39mtraining_inputs\u001b[39m.\u001b[39mshape[\u001b[39m1\u001b[39m], epochs\u001b[39m=\u001b[39m\u001b[39m100\u001b[39m, learning_rate\u001b[39m=\u001b[39m\u001b[39m0.01\u001b[39m, weights\u001b[39m=\u001b[39mnp\u001b[39m.\u001b[39mrandom\u001b[39m.\u001b[39mrand(\u001b[39m6\u001b[39m))\n\u001b[0;32m----> <a href='vscode-notebook-cell:/Users/juancisneros/Documents/USFQ/Septimo_Semestre/Inteligencia_Artificial/HOMEWORK_3/linear.ipynb#W4sZmlsZQ%3D%3D?line=5'>6</a>\u001b[0m perceptron\u001b[39m.\u001b[39mtrain(x, y)\n",
      "\u001b[1;32m/Users/juancisneros/Documents/USFQ/Septimo_Semestre/Inteligencia_Artificial/HOMEWORK_3/linear.ipynb Cell 5\u001b[0m line \u001b[0;36m3\n\u001b[1;32m     <a href='vscode-notebook-cell:/Users/juancisneros/Documents/USFQ/Septimo_Semestre/Inteligencia_Artificial/HOMEWORK_3/linear.ipynb#W4sZmlsZQ%3D%3D?line=29'>30</a>\u001b[0m \u001b[39mfor\u001b[39;00m epoch \u001b[39min\u001b[39;00m \u001b[39mrange\u001b[39m(\u001b[39mself\u001b[39m\u001b[39m.\u001b[39mepochs):\n\u001b[1;32m     <a href='vscode-notebook-cell:/Users/juancisneros/Documents/USFQ/Septimo_Semestre/Inteligencia_Artificial/HOMEWORK_3/linear.ipynb#W4sZmlsZQ%3D%3D?line=30'>31</a>\u001b[0m     \u001b[39mfor\u001b[39;00m inputs, label \u001b[39min\u001b[39;00m \u001b[39mzip\u001b[39m(training_inputs, labels):\n\u001b[0;32m---> <a href='vscode-notebook-cell:/Users/juancisneros/Documents/USFQ/Septimo_Semestre/Inteligencia_Artificial/HOMEWORK_3/linear.ipynb#W4sZmlsZQ%3D%3D?line=31'>32</a>\u001b[0m         prediction \u001b[39m=\u001b[39m \u001b[39mself\u001b[39m\u001b[39m.\u001b[39mpredict(inputs)\n\u001b[1;32m     <a href='vscode-notebook-cell:/Users/juancisneros/Documents/USFQ/Septimo_Semestre/Inteligencia_Artificial/HOMEWORK_3/linear.ipynb#W4sZmlsZQ%3D%3D?line=32'>33</a>\u001b[0m         error \u001b[39m=\u001b[39m label \u001b[39m-\u001b[39m prediction\n\u001b[1;32m     <a href='vscode-notebook-cell:/Users/juancisneros/Documents/USFQ/Septimo_Semestre/Inteligencia_Artificial/HOMEWORK_3/linear.ipynb#W4sZmlsZQ%3D%3D?line=33'>34</a>\u001b[0m         \u001b[39mself\u001b[39m\u001b[39m.\u001b[39mweights \u001b[39m+\u001b[39m\u001b[39m=\u001b[39m \u001b[39mself\u001b[39m\u001b[39m.\u001b[39mlearning_rate \u001b[39m*\u001b[39m error \u001b[39m*\u001b[39m prediction \u001b[39m*\u001b[39m (\u001b[39m1\u001b[39m \u001b[39m-\u001b[39m prediction) \u001b[39m*\u001b[39m inputs\n",
      "\u001b[1;32m/Users/juancisneros/Documents/USFQ/Septimo_Semestre/Inteligencia_Artificial/HOMEWORK_3/linear.ipynb Cell 5\u001b[0m line \u001b[0;36m1\n\u001b[1;32m     <a href='vscode-notebook-cell:/Users/juancisneros/Documents/USFQ/Septimo_Semestre/Inteligencia_Artificial/HOMEWORK_3/linear.ipynb#W4sZmlsZQ%3D%3D?line=16'>17</a>\u001b[0m \u001b[39mdef\u001b[39;00m \u001b[39mpredict\u001b[39m(\u001b[39mself\u001b[39m, inputs):\n\u001b[0;32m---> <a href='vscode-notebook-cell:/Users/juancisneros/Documents/USFQ/Septimo_Semestre/Inteligencia_Artificial/HOMEWORK_3/linear.ipynb#W4sZmlsZQ%3D%3D?line=17'>18</a>\u001b[0m     summation \u001b[39m=\u001b[39m np\u001b[39m.\u001b[39mdot(inputs, \u001b[39mself\u001b[39m\u001b[39m.\u001b[39mweights)  \u001b[39m# No need to reshape self.weights\u001b[39;00m\n\u001b[1;32m     <a href='vscode-notebook-cell:/Users/juancisneros/Documents/USFQ/Septimo_Semestre/Inteligencia_Artificial/HOMEWORK_3/linear.ipynb#W4sZmlsZQ%3D%3D?line=18'>19</a>\u001b[0m     \u001b[39mreturn\u001b[39;00m sigmoid(summation)\n",
      "File \u001b[0;32m<__array_function__ internals>:200\u001b[0m, in \u001b[0;36mdot\u001b[0;34m(*args, **kwargs)\u001b[0m\n",
      "\u001b[0;31mValueError\u001b[0m: shapes (2,) and (6,) not aligned: 2 (dim 0) != 6 (dim 0)"
     ]
    }
   ],
   "source": [
    "\n",
    "x = x.to_numpy()\n",
    "y = y.to_numpy()\n",
    "\n",
    "\n",
    "perceptron = Perceptron(input_size=training_inputs.shape[1], epochs=100, learning_rate=0.01, weights=np.random.rand(6))\n",
    "perceptron.train(x, y)\n",
    "\n",
    "\n",
    "    \n"
   ]
  },
  {
   "cell_type": "code",
   "execution_count": 37,
   "metadata": {},
   "outputs": [
    {
     "data": {
      "image/png": "[encoded data removed]",
      "text/plain": [
       "<Figure size 640x480 with 1 Axes>"
      ]
     },
     "metadata": {},
     "output_type": "display_data"
    }
   ],
   "source": [
    "# Plot the accuracy graph\n",
    "plt.plot(perceptron.accuracies)\n",
    "plt.xlabel('Epoch')\n",
    "plt.ylabel('Accuracy')\n",
    "plt.show()"
   ]
  },
  {
   "cell_type": "code",
   "execution_count": 38,
   "metadata": {},
   "outputs": [
    {
     "ename": "IndexError",
     "evalue": "only integers, slices (`:`), ellipsis (`...`), numpy.newaxis (`None`) and integer or boolean arrays are valid indices",
     "output_type": "error",
     "traceback": [
      "\u001b[0;31m---------------------------------------------------------------------------\u001b[0m",
      "\u001b[0;31mIndexError\u001b[0m                                Traceback (most recent call last)",
      "\u001b[1;32m/Users/juancisneros/Documents/USFQ/Septimo_Semestre/Inteligencia_Artificial/HOMEWORK_3/linear.ipynb Cell 7\u001b[0m line \u001b[0;36m5\n\u001b[1;32m      <a href='vscode-notebook-cell:/Users/juancisneros/Documents/USFQ/Septimo_Semestre/Inteligencia_Artificial/HOMEWORK_3/linear.ipynb#W6sZmlsZQ%3D%3D?line=2'>3</a>\u001b[0m y_values \u001b[39m=\u001b[39m \u001b[39m-\u001b[39m(perceptron\u001b[39m.\u001b[39mweights[\u001b[39m0\u001b[39m] \u001b[39m+\u001b[39m perceptron\u001b[39m.\u001b[39mweights[\u001b[39m1\u001b[39m] \u001b[39m*\u001b[39m x_values \u001b[39m+\u001b[39m perceptron\u001b[39m.\u001b[39mweights[\u001b[39m3\u001b[39m] \u001b[39m*\u001b[39m x_values\u001b[39m*\u001b[39m\u001b[39m*\u001b[39m\u001b[39m2\u001b[39m) \u001b[39m/\u001b[39m perceptron\u001b[39m.\u001b[39mweights[\u001b[39m2\u001b[39m]\n\u001b[1;32m      <a href='vscode-notebook-cell:/Users/juancisneros/Documents/USFQ/Septimo_Semestre/Inteligencia_Artificial/HOMEWORK_3/linear.ipynb#W6sZmlsZQ%3D%3D?line=3'>4</a>\u001b[0m plt\u001b[39m.\u001b[39mplot(x_values, y_values, label\u001b[39m=\u001b[39m\u001b[39m'\u001b[39m\u001b[39mDecision Boundary\u001b[39m\u001b[39m'\u001b[39m)\n\u001b[0;32m----> <a href='vscode-notebook-cell:/Users/juancisneros/Documents/USFQ/Septimo_Semestre/Inteligencia_Artificial/HOMEWORK_3/linear.ipynb#W6sZmlsZQ%3D%3D?line=4'>5</a>\u001b[0m plt\u001b[39m.\u001b[39mscatter(x[\u001b[39m'\u001b[39m\u001b[39mX\u001b[39m\u001b[39m'\u001b[39m], x[\u001b[39m'\u001b[39m\u001b[39mY\u001b[39m\u001b[39m'\u001b[39m], c\u001b[39m=\u001b[39my[\u001b[39m'\u001b[39m\u001b[39mY\u001b[39m\u001b[39m'\u001b[39m], cmap\u001b[39m=\u001b[39m\u001b[39m'\u001b[39m\u001b[39mrainbow\u001b[39m\u001b[39m'\u001b[39m)\n\u001b[1;32m      <a href='vscode-notebook-cell:/Users/juancisneros/Documents/USFQ/Septimo_Semestre/Inteligencia_Artificial/HOMEWORK_3/linear.ipynb#W6sZmlsZQ%3D%3D?line=5'>6</a>\u001b[0m plt\u001b[39m.\u001b[39mxlabel(\u001b[39m'\u001b[39m\u001b[39mX\u001b[39m\u001b[39m'\u001b[39m)\n\u001b[1;32m      <a href='vscode-notebook-cell:/Users/juancisneros/Documents/USFQ/Septimo_Semestre/Inteligencia_Artificial/HOMEWORK_3/linear.ipynb#W6sZmlsZQ%3D%3D?line=6'>7</a>\u001b[0m plt\u001b[39m.\u001b[39mylabel(\u001b[39m'\u001b[39m\u001b[39mY\u001b[39m\u001b[39m'\u001b[39m)\n",
      "\u001b[0;31mIndexError\u001b[0m: only integers, slices (`:`), ellipsis (`...`), numpy.newaxis (`None`) and integer or boolean arrays are valid indices"
     ]
    },
    {
     "data": {
      "image/png": "[encoded data removed]",
      "text/plain": [
       "<Figure size 640x480 with 1 Axes>"
      ]
     },
     "metadata": {},
     "output_type": "display_data"
    }
   ],
   "source": [
    "# Plot the decision boundary\n",
    "x_values = np.linspace(0, 1, 100)\n",
    "y_values = -(perceptron.weights[0] + perceptron.weights[1] * x_values + perceptron.weights[3] * x_values**2) / perceptron.weights[2]\n",
    "plt.plot(x_values, y_values, label='Decision Boundary')\n",
    "plt.scatter(x['X'], x['Y'], c=y['Y'], cmap='rainbow')\n",
    "plt.xlabel('X')\n",
    "plt.ylabel('Y')\n",
    "plt.legend()\n",
    "plt.show()"
   ]
  },
  {
   "cell_type": "code",
   "execution_count": null,
   "metadata": {},
   "outputs": [],
   "source": []
  }
 ],
 "metadata": {
  "kernelspec": {
   "display_name": "base",
   "language": "python",
   "name": "python3"
  },
  "language_info": {
   "codemirror_mode": {
    "name": "ipython",
    "version": 3
   },
   "file_extension": ".py",
   "mimetype": "text/x-python",
   "name": "python",
   "nbconvert_exporter": "python",
   "pygments_lexer": "ipython3",
   "version": "3.11.4"
  }
 },
 "nbformat": 4,
 "nbformat_minor": 2
}
