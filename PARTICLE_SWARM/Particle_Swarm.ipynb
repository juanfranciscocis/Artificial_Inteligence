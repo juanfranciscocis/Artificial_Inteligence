{
 "cells": [
  {
   "cell_type": "code",
   "execution_count": 11,
   "id": "54da579810354f87",
   "metadata": {
    "ExecuteTime": {
     "end_time": "2023-09-25T16:34:09.121401Z",
     "start_time": "2023-09-25T16:34:09.107081Z"
    },
    "collapsed": false
   },
   "outputs": [
    {
     "name": "stdout",
     "output_type": "stream",
     "text": [
      "FINAL:\n",
      "Mejor Posición: [3.0000000000019655, 0.5000000000002108]\n",
      "Mejor Error: 2.382147939725129e-24\n"
     ]
    },
    {
     "data": {
      "text/plain": [
       "<__main__.PSO at 0x10b27b750>"
      ]
     },
     "execution_count": 11,
     "metadata": {},
     "output_type": "execute_result"
    }
   ],
   "source": [
    "# Importar la división futura (para garantizar que la división de números enteros sea de punto flotante)\n",
    "from __future__ import division\n",
    "# Importar el módulo 'random' para generar números aleatorios\n",
    "import random\n",
    "# Importar el módulo 'math' para operaciones matemáticas\n",
    "import math\n",
    "\n",
    "# Definir la nueva función a optimizar\n",
    "def func_to_optimize(x):\n",
    "    return (1.5 - x[0] + x[0] * x[1])**2 + (2.25 - x[0] + x[0] * x[1]**2)**2 + (2.625 - x[0] + x[0] * x[1]**3)**2\n",
    "\n",
    "# Definición de la clase Particle (Partícula)\n",
    "class Particle:\n",
    "    # Constructor de la clase\n",
    "    def __init__(self, x0):\n",
    "        self.position_i = []          # posición de la partícula\n",
    "        self.velocity_i = []          # velocidad de la partícula\n",
    "        self.pos_best_i = []          # mejor posición individual\n",
    "        self.err_best_i = -1          # mejor error individual\n",
    "        self.err_i = -1               # error individual\n",
    "\n",
    "        # Inicializar la posición y velocidad de la partícula\n",
    "        for i in range(0, num_dimensions):\n",
    "            self.velocity_i.append(random.uniform(-1, 1))\n",
    "            self.position_i.append(x0[i])\n",
    "\n",
    "    # Evaluar la aptitud actual\n",
    "    def evaluate(self, costFunc):\n",
    "        self.err_i = costFunc(self.position_i)\n",
    "\n",
    "        # Comprobar si la posición actual es la mejor individual\n",
    "        if self.err_i < self.err_best_i or self.err_best_i == -1:\n",
    "            self.pos_best_i = self.position_i\n",
    "            self.err_best_i = self.err_i\n",
    "\n",
    "    # Actualizar la velocidad de la partícula\n",
    "    def update_velocity(self, pos_best_g):\n",
    "        w = 0.5       # peso de inercia constante (cuánto pesar la velocidad anterior)\n",
    "        c1 = 1        # constante cognitiva\n",
    "        c2 = 2        # constante social\n",
    "\n",
    "        for i in range(0, num_dimensions):\n",
    "            r1 = random.random()\n",
    "            r2 = random.random()\n",
    "\n",
    "            vel_cognitive = c1 * r1 * (self.pos_best_i[i] - self.position_i[i])\n",
    "            vel_social = c2 * r2 * (pos_best_g[i] - self.position_i[i])\n",
    "            self.velocity_i[i] = w * self.velocity_i[i] + vel_cognitive + vel_social\n",
    "\n",
    "    # Actualizar la posición de la partícula en función de las nuevas actualizaciones de velocidad\n",
    "    def update_position(self, bounds):\n",
    "        for i in range(0, num_dimensions):\n",
    "            self.position_i[i] = self.position_i[i] + self.velocity_i[i]\n",
    "\n",
    "            # Ajustar la posición máxima si es necesario\n",
    "            if self.position_i[i] > bounds[i][1]:\n",
    "                self.position_i[i] = bounds[i][1]\n",
    "\n",
    "            # Ajustar la posición mínima si es necesario\n",
    "            if self.position_i[i] < bounds[i][0]:\n",
    "                self.position_i[i] = bounds[i][0]\n",
    "\n",
    "# Definición de la clase PSO (Optimización por Enjambre de Partículas)\n",
    "class PSO:\n",
    "    def __init__(self, costFunc, x0, bounds, num_particles, maxiter):\n",
    "        global num_dimensions\n",
    "\n",
    "        num_dimensions = len(x0)\n",
    "        err_best_g = -1                   # mejor error para el grupo\n",
    "        pos_best_g = []                   # mejor posición para el grupo\n",
    "\n",
    "        # Establecer el enjambre (swarm)\n",
    "        swarm = []\n",
    "        for i in range(0, num_particles):\n",
    "            swarm.append(Particle(x0))\n",
    "\n",
    "        # Comenzar el bucle de optimización\n",
    "        i = 0\n",
    "        while i < maxiter:\n",
    "            # Recorrer las partículas en el enjambre y evaluar la aptitud\n",
    "            for j in range(0, num_particles):\n",
    "                swarm[j].evaluate(costFunc)\n",
    "\n",
    "                # Determinar si la partícula actual es la mejor (globalmente)\n",
    "                if swarm[j].err_i < err_best_g or err_best_g == -1:\n",
    "                    pos_best_g = list(swarm[j].position_i)\n",
    "                    err_best_g = float(swarm[j].err_i)\n",
    "\n",
    "            # Recorrer el enjambre y actualizar las velocidades y posiciones\n",
    "            for j in range(0, num_particles):\n",
    "                swarm[j].update_position(bounds)\n",
    "                swarm[j].update_velocity(pos_best_g)\n",
    "            i += 1\n",
    "\n",
    "        # Imprimir los resultados finales\n",
    "        print('FINAL:')\n",
    "        print('Mejor Posición:', pos_best_g)\n",
    "        print('Mejor Error:', err_best_g)\n",
    "\n",
    "# Definir la ubicación inicial y los límites iniciales\n",
    "initial = [random.uniform(-4.5, 4.5), random.uniform(-4.5, 4.5)]  # Ubicación inicial dentro del rango especificado\n",
    "bounds = [(-4.5, 4.5), (-4.5, 4.5)]  # Límites de entrada dentro del rango especificado\n",
    "\n",
    "# Utilizar la nueva función 'func_to_optimize' con la ubicación inicial y límites modificados\n",
    "PSO(func_to_optimize, initial, bounds, num_particles=100, maxiter=100)\n"
   ]
  },
  {
   "cell_type": "code",
   "execution_count": null,
   "id": "4ced54b4",
   "metadata": {},
   "outputs": [],
   "source": []
  },
  {
   "cell_type": "code",
   "execution_count": null,
   "id": "c0304e2f8c3b17dd",
   "metadata": {},
   "outputs": [],
   "source": []
  }
 ],
 "metadata": {
  "kernelspec": {
   "display_name": "Python 3",
   "language": "python",
   "name": "python3"
  },
  "language_info": {
   "codemirror_mode": {
    "name": "ipython",
    "version": 3
   },
   "file_extension": ".py",
   "mimetype": "text/x-python",
   "name": "python",
   "nbconvert_exporter": "python",
   "pygments_lexer": "ipython3",
   "version": "3.11.4"
  }
 },
 "nbformat": 4,
 "nbformat_minor": 5
}
